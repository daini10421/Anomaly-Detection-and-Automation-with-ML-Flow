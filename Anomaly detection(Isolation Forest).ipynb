{
 "cells": [
  {
   "cell_type": "code",
   "execution_count": 25,
   "id": "c50595a7",
   "metadata": {},
   "outputs": [
    {
     "name": "stdout",
     "output_type": "stream",
     "text": [
      "Anomalies for contamination=0.01, random_state=42:\n",
      "Empty DataFrame\n",
      "Columns: [Bonus %, Anomaly]\n",
      "Index: []\n"
     ]
    },
    {
     "name": "stderr",
     "output_type": "stream",
     "text": [
      "2023/12/07 23:34:10 WARNING mlflow.sklearn: Model was missing function: predict. Not logging python_function flavor!\n"
     ]
    },
    {
     "name": "stdout",
     "output_type": "stream",
     "text": [
      "Anomalies for contamination=0.01, random_state=55:\n",
      "Empty DataFrame\n",
      "Columns: [Bonus %, Anomaly]\n",
      "Index: []\n"
     ]
    },
    {
     "name": "stderr",
     "output_type": "stream",
     "text": [
      "2023/12/07 23:34:23 WARNING mlflow.sklearn: Model was missing function: predict. Not logging python_function flavor!\n"
     ]
    },
    {
     "name": "stdout",
     "output_type": "stream",
     "text": [
      "Anomalies for contamination=0.01, random_state=123:\n",
      "Empty DataFrame\n",
      "Columns: [Bonus %, Anomaly]\n",
      "Index: []\n"
     ]
    },
    {
     "name": "stderr",
     "output_type": "stream",
     "text": [
      "2023/12/07 23:34:37 WARNING mlflow.sklearn: Model was missing function: predict. Not logging python_function flavor!\n"
     ]
    },
    {
     "name": "stdout",
     "output_type": "stream",
     "text": [
      "Anomalies for contamination=0.05, random_state=42:\n",
      "    Bonus %  Anomaly\n",
      "18     24.0       -1\n"
     ]
    },
    {
     "name": "stderr",
     "output_type": "stream",
     "text": [
      "2023/12/07 23:34:52 WARNING mlflow.sklearn: Model was missing function: predict. Not logging python_function flavor!\n"
     ]
    },
    {
     "name": "stdout",
     "output_type": "stream",
     "text": [
      "Anomalies for contamination=0.05, random_state=55:\n",
      "    Bonus %  Anomaly\n",
      "19     18.0       -1\n",
      "68     35.0       -1\n",
      "18     24.0       -1\n"
     ]
    },
    {
     "name": "stderr",
     "output_type": "stream",
     "text": [
      "2023/12/07 23:35:04 WARNING mlflow.sklearn: Model was missing function: predict. Not logging python_function flavor!\n"
     ]
    },
    {
     "name": "stdout",
     "output_type": "stream",
     "text": [
      "Anomalies for contamination=0.05, random_state=123:\n",
      "     Bonus %  Anomaly\n",
      "19      18.0       -1\n",
      "114     37.0       -1\n",
      "68      35.0       -1\n",
      "18      24.0       -1\n"
     ]
    },
    {
     "name": "stderr",
     "output_type": "stream",
     "text": [
      "2023/12/07 23:35:17 WARNING mlflow.sklearn: Model was missing function: predict. Not logging python_function flavor!\n"
     ]
    },
    {
     "name": "stdout",
     "output_type": "stream",
     "text": [
      "Anomalies for contamination=0.1, random_state=42:\n",
      "     Bonus %  Anomaly\n",
      "19      18.0       -1\n",
      "114     37.0       -1\n",
      "68      35.0       -1\n",
      "25      23.0       -1\n",
      "18      24.0       -1\n"
     ]
    },
    {
     "name": "stderr",
     "output_type": "stream",
     "text": [
      "2023/12/07 23:35:32 WARNING mlflow.sklearn: Model was missing function: predict. Not logging python_function flavor!\n"
     ]
    },
    {
     "name": "stdout",
     "output_type": "stream",
     "text": [
      "Anomalies for contamination=0.1, random_state=55:\n",
      "     Bonus %  Anomaly\n",
      "19      18.0       -1\n",
      "114     37.0       -1\n",
      "68      35.0       -1\n",
      "25      23.0       -1\n",
      "18      24.0       -1\n"
     ]
    },
    {
     "name": "stderr",
     "output_type": "stream",
     "text": [
      "2023/12/07 23:35:46 WARNING mlflow.sklearn: Model was missing function: predict. Not logging python_function flavor!\n"
     ]
    },
    {
     "name": "stdout",
     "output_type": "stream",
     "text": [
      "Anomalies for contamination=0.1, random_state=123:\n",
      "     Bonus %  Anomaly\n",
      "19      18.0       -1\n",
      "114     37.0       -1\n",
      "68      35.0       -1\n",
      "25      23.0       -1\n",
      "18      24.0       -1\n"
     ]
    },
    {
     "name": "stderr",
     "output_type": "stream",
     "text": [
      "2023/12/07 23:36:00 WARNING mlflow.sklearn: Model was missing function: predict. Not logging python_function flavor!\n"
     ]
    }
   ],
   "source": [
    "# perfect\n",
    "import pandas as pd\n",
    "from sklearn.ensemble import IsolationForest\n",
    "from sklearn.model_selection import train_test_split\n",
    "from sklearn.preprocessing import StandardScaler\n",
    "import mlflow\n",
    "import mlflow.sklearn\n",
    "\n",
    "# Load your dataset from Excel\n",
    "df = pd.read_excel(\"./Employeedata/Employee Sample Data.xlsx\")\n",
    "\n",
    "# Select the column for anomaly detection\n",
    "column_name = 'Bonus %'\n",
    "data = df[[column_name]]\n",
    "\n",
    "# Split the data into training and testing sets\n",
    "X_train, X_test = train_test_split(data, test_size=0.2, random_state=42)\n",
    "\n",
    "# Standardize the data\n",
    "scaler = StandardScaler()\n",
    "X_train_scaled = scaler.fit_transform(X_train)\n",
    "X_test_scaled = scaler.transform(X_test)\n",
    "\n",
    "# Define different parameters for the Isolation Forest model\n",
    "contamination_values = [0.01, 0.05, 0.1]\n",
    "random_state_values = [42, 55, 123]\n",
    "\n",
    "# Iterate over parameter combinations\n",
    "for contamination in contamination_values:\n",
    "    for random_state in random_state_values:\n",
    "        # Train the Isolation Forest model\n",
    "        model = IsolationForest(contamination=contamination, random_state=random_state)\n",
    "        model.fit(X_train_scaled)\n",
    "\n",
    "        # Predict anomalies on the test set\n",
    "        y_pred = model.predict(X_test_scaled)\n",
    "\n",
    "        # Add a new column 'Anomaly' to the DataFrame\n",
    "        X_test['Anomaly'] = y_pred\n",
    "\n",
    "        # Display the anomalies\n",
    "        anomalies = X_test[X_test['Anomaly'] == -1]\n",
    "        print(f\"Anomalies for contamination={contamination}, random_state={random_state}:\")\n",
    "        print(anomalies)\n",
    "\n",
    "        # MLflow tracking for each run\n",
    "        with mlflow.start_run():\n",
    "            # Log parameters\n",
    "            mlflow.log_param(\"contamination\", contamination)\n",
    "            mlflow.log_param(\"random_state\", random_state)\n",
    "\n",
    "            # Log the model\n",
    "            mlflow.sklearn.log_model(model, \"model\")\n",
    "\n",
    "            # Save the scaler\n",
    "            mlflow.sklearn.log_model(scaler, \"scaler\")\n"
   ]
  },
  {
   "cell_type": "code",
   "execution_count": 16,
   "id": "c2ba21e2",
   "metadata": {},
   "outputs": [],
   "source": [
    "logged_model = 'runs:/e2185fa7dea949719cc6b56dafe59eb9/scaler'\n",
    "\n",
    "# Load model\n",
    "loaded_model = mlflow.sklearn.load_model(logged_model)"
   ]
  },
  {
   "cell_type": "code",
   "execution_count": 17,
   "id": "3e133b17",
   "metadata": {},
   "outputs": [
    {
     "name": "stderr",
     "output_type": "stream",
     "text": [
      "Successfully registered model 'anomaly detection'.\n",
      "Created version '1' of model 'anomaly detection'.\n"
     ]
    }
   ],
   "source": [
    "result = mlflow.register_model(\n",
    "    \"runs:/e2185fa7dea949719cc6b56dafe59eb9/scaler\", \"anomaly detection\"\n",
    ")"
   ]
  },
  {
   "cell_type": "code",
   "execution_count": 18,
   "id": "292d2e9d",
   "metadata": {},
   "outputs": [
    {
     "name": "stderr",
     "output_type": "stream",
     "text": [
      "C:\\Users\\DEVANG\\anaconda3\\Lib\\site-packages\\sklearn\\base.py:457: UserWarning: X has feature names, but IsolationForest was fitted without feature names\n",
      "  warnings.warn(\n"
     ]
    },
    {
     "data": {
      "text/plain": [
       "array([-1,  1, -1, -1,  1,  1, -1,  1, -1,  1, -1,  1, -1, -1,  1, -1, -1,\n",
       "       -1, -1, -1, -1, -1, -1,  1, -1, -1,  1, -1, -1, -1,  1,  1,  1,  1,\n",
       "        1,  1,  1, -1,  1,  1,  1, -1, -1,  1, -1,  1, -1, -1,  1, -1,  1,\n",
       "        1, -1,  1, -1,  1,  1,  1,  1, -1, -1,  1, -1, -1,  1,  1,  1, -1,\n",
       "       -1,  1,  1, -1, -1,  1, -1,  1,  1, -1,  1, -1,  1, -1,  1, -1, -1,\n",
       "        1, -1,  1,  1,  1, -1, -1,  1,  1,  1, -1, -1,  1, -1, -1,  1, -1,\n",
       "        1, -1,  1, -1,  1,  1,  1, -1,  1, -1,  1, -1, -1, -1, -1,  1,  1,\n",
       "       -1,  1,  1,  1, -1,  1,  1,  1,  1,  1, -1, -1,  1, -1,  1, -1,  1,\n",
       "       -1, -1,  1,  1,  1, -1, -1,  1,  1, -1, -1,  1,  1,  1,  1,  1,  1,\n",
       "        1,  1,  1, -1, -1, -1,  1, -1,  1,  1,  1, -1, -1, -1,  1, -1, -1,\n",
       "        1,  1, -1, -1, -1, -1, -1, -1,  1, -1,  1,  1,  1,  1,  1,  1,  1,\n",
       "        1, -1,  1, -1,  1, -1, -1,  1, -1,  1, -1,  1, -1,  1,  1, -1,  1,\n",
       "       -1,  1,  1, -1,  1, -1,  1, -1,  1, -1,  1,  1,  1, -1,  1,  1, -1,\n",
       "        1,  1,  1,  1,  1, -1, -1,  1, -1,  1,  1, -1, -1, -1,  1,  1,  1,\n",
       "       -1,  1, -1,  1, -1, -1, -1, -1, -1, -1, -1, -1])"
      ]
     },
     "execution_count": 18,
     "metadata": {},
     "output_type": "execute_result"
    }
   ],
   "source": [
    "\n",
    "logged_model = 'runs:/e2185fa7dea949719cc6b56dafe59eb9/model'\n",
    "\n",
    "logged_model = 'runs:/runid/model'\n",
    "\n",
    "# Load model as a PyFuncModel.\n",
    "loaded_model = mlflow.pyfunc.load_model(logged_model)\n",
    "\n",
    "# Predict on a Pandas DataFrame.\n",
    "\n",
    "loaded_model.predict(pd.DataFrame(data))"
   ]
  }
 ],
 "metadata": {
  "kernelspec": {
   "display_name": "Python 3 (ipykernel)",
   "language": "python",
   "name": "python3"
  },
  "language_info": {
   "codemirror_mode": {
    "name": "ipython",
    "version": 3
   },
   "file_extension": ".py",
   "mimetype": "text/x-python",
   "name": "python",
   "nbconvert_exporter": "python",
   "pygments_lexer": "ipython3",
   "version": "3.11.5"
  }
 },
 "nbformat": 4,
 "nbformat_minor": 5
}
